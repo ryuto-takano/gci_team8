{
 "cells": [
  {
   "cell_type": "code",
   "execution_count": 1,
   "metadata": {
    "collapsed": true
   },
   "outputs": [],
   "source": [
    "#必要なライブラリを揃える\n",
    "import requests\n",
    "import lxml.html\n",
    "from xml.etree.ElementTree import *"
   ]
  },
  {
   "cell_type": "code",
   "execution_count": 4,
   "metadata": {
    "collapsed": true
   },
   "outputs": [],
   "source": [
    "#bal.ipyb のやつと同じ にほんご版\n",
    "def shop_name(x):\n",
    "    session = requests.Session()\n",
    "    response = session.get(x)\n",
    "    urls = list()\n",
    "    root = lxml.html.fromstring(response.content)\n",
    "    root.make_links_absolute(response.url)  \n",
    "    for a in root.cssselect('a'):\n",
    "        url = a.get(\"href\")\n",
    "        urls.append(url)\n",
    "    i = 0\n",
    "    ipc = list()\n",
    "    for i in range(len(urls)):\n",
    "        if \"shops\" in urls[i]:\n",
    "                   ipc.append(urls[i])\n",
    "        else:\n",
    "                   pass\n",
    "    ipcs = ipc[1:]\n",
    "    ipcl = ipcs[12:-2]\n",
    "    import re\n",
    "    session = requests.Session()\n",
    "    i = 0\n",
    "    dic = dict()\n",
    "    lis = list()\n",
    "    lis2 = list()\n",
    "    for url in ipcl:\n",
    "        response = session.get(url)\n",
    "        root = lxml.html.fromstring(response.content)\n",
    "        for x in root.cssselect('h3[class =\"H3_shopinfo\"]'):\n",
    "            lis.append(x.text)\n",
    "    wrl =list()\n",
    "    i= 0\n",
    "    for i in range(len(lis)):\n",
    "        l = lis[i]\n",
    "        la = l[1:-2]\n",
    "        wrl.append(la)\n",
    "    wrl\n",
    "    return wrl"
   ]
  },
  {
   "cell_type": "code",
   "execution_count": 5,
   "metadata": {
    "collapsed": true
   },
   "outputs": [],
   "source": [
    "#ナチュラル店表記版\n",
    "def shop_name1(x):\n",
    "    session = requests.Session()\n",
    "    response = session.get(x)\n",
    "    urls = list()\n",
    "    root = lxml.html.fromstring(response.content)\n",
    "    root.make_links_absolute(response.url)  \n",
    "    for a in root.cssselect('a'):\n",
    "        url = a.get(\"href\")\n",
    "        urls.append(url)\n",
    "    i = 0\n",
    "    ipc = list()\n",
    "    for i in range(len(urls)):\n",
    "        if \"shops\" in urls[i]:\n",
    "            ipc.append(urls[i])\n",
    "        else:\n",
    "            pass\n",
    "    ipcs = ipc[1:]\n",
    "    ipcl = ipcs[12:-2]\n",
    "    import re\n",
    "    i = 0\n",
    "    dic = dict()\n",
    "    lis = list()\n",
    "    lis2 = list()\n",
    "    for url in ipcl:\n",
    "        response = session.get(url)\n",
    "        root = lxml.html.fromstring(response.content)\n",
    "        for x in root.cssselect('span'):\n",
    "            lis.append(x.text)\n",
    "    i = 0\n",
    "    for i in range(len(lis)):\n",
    "        l = str(lis[i])\n",
    "        if \"\\n\" in l:\n",
    "            ls = l.replace('\\n', '')\n",
    "            ld = ls.replace(' ','')\n",
    "            lis2.append(ld)\n",
    "    while lis2.count(\"\") > 0:\n",
    "        lis2.remove(\"\")\n",
    "    return  lis2"
   ]
  },
  {
   "cell_type": "code",
   "execution_count": 6,
   "metadata": {},
   "outputs": [],
   "source": [
    "#とりま２通りで検索かけてみたい\n",
    "erl = list()\n",
    "wrl = list()\n",
    "arl = list()\n",
    "srl = list()\n",
    "erl = shop_name1(\"http://www.balnibarbi.com/shops/east.php\")\n",
    "srl =  shop_name1(\"http://www.balnibarbi.com/shops/sweets.php\")\n",
    "arl =  shop_name1(\"http://www.balnibarbi.com/shops/asushoku.php\")\n",
    "wrl = shop_name1(\"http://www.balnibarbi.com/shops/west.php\")"
   ]
  },
  {
   "cell_type": "code",
   "execution_count": 7,
   "metadata": {
    "collapsed": true
   },
   "outputs": [],
   "source": [
    "eerl = list()\n",
    "wwrl = list()\n",
    "aarl = list()\n",
    "ssrl = list()\n",
    "eerl = shop_name(\"http://www.balnibarbi.com/shops/east.php\")\n",
    "ssrl =  shop_name(\"http://www.balnibarbi.com/shops/sweets.php\")\n",
    "aarl =  shop_name(\"http://www.balnibarbi.com/shops/asushoku.php\")\n",
    "wwrl = shop_name(\"http://www.balnibarbi.com/shops/west.php\")"
   ]
  },
  {
   "cell_type": "code",
   "execution_count": 9,
   "metadata": {},
   "outputs": [
    {
     "data": {
      "text/plain": [
       "['ガーブ東京', 'ガーブピンティーノ', 'ガーブセントラル', '鉄板チャイニーズバルサヴァ？', '青いナポリ']"
      ]
     },
     "execution_count": 9,
     "metadata": {},
     "output_type": "execute_result"
    }
   ],
   "source": [
    "erl[:5]"
   ]
  },
  {
   "cell_type": "code",
   "execution_count": 10,
   "metadata": {},
   "outputs": [
    {
     "data": {
      "text/plain": [
       "['GARB Tokyo', 'GARB pintino', 'GARB CENTRAL', '鉄板チャイニーズバル Cava？', '本家かのや']"
      ]
     },
     "execution_count": 10,
     "metadata": {},
     "output_type": "execute_result"
    }
   ],
   "source": [
    "eerl[:5]"
   ]
  },
  {
   "cell_type": "code",
   "execution_count": 26,
   "metadata": {
    "collapsed": true
   },
   "outputs": [],
   "source": [
    "#若干店名が揃ってないのはなんでなん"
   ]
  },
  {
   "cell_type": "code",
   "execution_count": 13,
   "metadata": {
    "collapsed": true
   },
   "outputs": [],
   "source": [
    "ul = \"https://tabelog.com/rstLst/?vs=1&sa=&sk=\" \n",
    "ul2 =\"&lid=hd_search1&vac_net=&svd=20171108&svt=1900&svps=2&hfc=1&sw=\" "
   ]
  },
  {
   "cell_type": "code",
   "execution_count": 14,
   "metadata": {},
   "outputs": [
    {
     "data": {
      "text/plain": [
       "'GARB%2520Tokyo'"
      ]
     },
     "execution_count": 14,
     "metadata": {},
     "output_type": "execute_result"
    }
   ],
   "source": [
    "x = eerl[0]\n",
    "f = x.find(' ')\n",
    "y = x[0:f]+\"%2520\"+x[f+1:]\n",
    "y"
   ]
  },
  {
   "cell_type": "code",
   "execution_count": 15,
   "metadata": {},
   "outputs": [
    {
     "data": {
      "text/plain": [
       "4"
      ]
     },
     "execution_count": 15,
     "metadata": {},
     "output_type": "execute_result"
    }
   ],
   "source": [
    "#スペース返すのが何番目なのか返してくれるんだー\n",
    "f"
   ]
  },
  {
   "cell_type": "code",
   "execution_count": 16,
   "metadata": {
    "collapsed": true
   },
   "outputs": [],
   "source": [
    "def url(a):\n",
    "    i = 0\n",
    "    urls = list()\n",
    "    for i in range(len(a)):\n",
    "        x = a[i]\n",
    "        f = x.find(' ')\n",
    "        if f > 0:\n",
    "            y = x[0:f]+\"%2520\"+x[f+1:]\n",
    "            urls.append(y)\n",
    "        else:\n",
    "            y = x\n",
    "            urls.append(y)\n",
    "    return urls"
   ]
  },
  {
   "cell_type": "code",
   "execution_count": 17,
   "metadata": {
    "collapsed": true
   },
   "outputs": [],
   "source": [
    "#%2520とかいうのを挟み込む\n",
    "urls = url(eerl)\n",
    "urls1 = url(erl)"
   ]
  },
  {
   "cell_type": "code",
   "execution_count": 28,
   "metadata": {
    "collapsed": true
   },
   "outputs": [],
   "source": [
    "#単純にfind(' ')だけだと初めの' 'だけで終わってしまう、' 'が複数個存在すると余っちゃう\n",
    "#条件付け加えればできそうだけどいずれにせよ検索に引っかかりそうだからおっけーって感じなのかな\n",
    "#多分shop_name1が読めてない感じがする"
   ]
  },
  {
   "cell_type": "code",
   "execution_count": 22,
   "metadata": {
    "scrolled": true
   },
   "outputs": [
    {
     "data": {
      "text/plain": [
       "['GARB%2520Tokyo',\n",
       " 'GARB%2520pintino',\n",
       " 'GARB%2520CENTRAL',\n",
       " '鉄板チャイニーズバル%2520Cava？',\n",
       " '本家かのや',\n",
       " '鹿児島%2520かのや萩原',\n",
       " 'AOI%2520NAPOLI',\n",
       " '青いナポリ%2520Blue Bar',\n",
       " 'Skew',\n",
       " 'GOOD%2520MORNING CAFE ルミネ池袋',\n",
       " 'GOOD%2520MORNING CAF',\n",
       " 'GOOD%2520MORNING CAFE 錦町',\n",
       " 'GOOD%2520MORNING CAFE 品川シーズンテラス',\n",
       " 'GOOD%2520MORNING CAFE 千駄ヶ谷',\n",
       " 'GOOD%2520MORNING CAFE 早稲田',\n",
       " 'GOOD%2520MORNING CAFE & GRILL 虎ノ門',\n",
       " 'GOOD%2520MORNING CAFE & GRILL キュウリ',\n",
       " 'Riverside%2520Cafe Cielo y Rio',\n",
       " 'Cielo%2520y Rio HIGASHI',\n",
       " 'RIBAYON',\n",
       " 'ボン花火',\n",
       " 'BistroBar%2520TROIS CUIT ASANUMA',\n",
       " 'BAR%2520RIVER ROOM KURAKOMA',\n",
       " 'Privado',\n",
       " \"L'Antica%2520Pizzeria da Michele\",\n",
       " \"AD'ACCHIO\",\n",
       " 'SLOW%2520JET COFFEE',\n",
       " '両国テラスカフェ',\n",
       " '神田錦町%2520如月',\n",
       " 'Wee%2520Nam Kee Hainanese Chicken Rice',\n",
       " 'Cucina%2520Caffe OLIVA',\n",
       " '両国テラス',\n",
       " 'MIRROR',\n",
       " 'GARB%2520江ノ島',\n",
       " 'TOYOTAMA%2520VILLA',\n",
       " 'UPMARKET%2520PIZZA&CAFE',\n",
       " 'OPEN%2520TERRACE ME-EAT']"
      ]
     },
     "execution_count": 22,
     "metadata": {},
     "output_type": "execute_result"
    }
   ],
   "source": [
    "urls"
   ]
  },
  {
   "cell_type": "code",
   "execution_count": 24,
   "metadata": {},
   "outputs": [
    {
     "data": {
      "text/plain": [
       "['ガーブ東京',\n",
       " 'ガーブピンティーノ',\n",
       " 'ガーブセントラル',\n",
       " '鉄板チャイニーズバルサヴァ？',\n",
       " '青いナポリ',\n",
       " '青いナポリブルーバー',\n",
       " 'スキュー',\n",
       " 'グッドモーニングカフェルミネ池袋店',\n",
       " 'グッドモーニングカフェ中野セントラルパーク',\n",
       " 'グッドモーニングカフェ錦町',\n",
       " 'グッドモーニングカフェ品川シーズンテラス',\n",
       " 'グッドモーニングカフェ千駄ヶ谷',\n",
       " 'グッドモーニングカフェ早稲田',\n",
       " 'グッドモーニングカフェ＆グリル虎ノ門',\n",
       " 'グッドモーニングカフェ＆グリルキュウリ',\n",
       " 'リバーサイドカフェシエロイリオ',\n",
       " 'シエロイリオヒガシ',\n",
       " 'リバヨン',\n",
       " 'ビストロバルトロワキュイアサヌマ',\n",
       " 'バーバーリバールーム蔵駒',\n",
       " 'プリバード',\n",
       " 'アンティーカピッツェリアダミケーレ',\n",
       " 'アダッキオ',\n",
       " 'スロージェットコーヒー',\n",
       " 'ウィーナムキーハイナンチキンライス日本本店',\n",
       " 'クッチーナカフェオリーヴァ',\n",
       " '両国テラス',\n",
       " 'ミラー',\n",
       " 'ガーブ江ノ島',\n",
       " 'トヨタマヴィラ',\n",
       " 'アップマーケットピッツァ＆カフェ',\n",
       " 'オープンテラスミーイート']"
      ]
     },
     "execution_count": 24,
     "metadata": {},
     "output_type": "execute_result"
    }
   ],
   "source": [
    "urls1"
   ]
  },
  {
   "cell_type": "code",
   "execution_count": 25,
   "metadata": {},
   "outputs": [
    {
     "data": {
      "text/plain": [
       "['GARB%2520Tokyo',\n",
       " 'GARB%2520pintino',\n",
       " 'GARB%2520CENTRAL',\n",
       " '鉄板チャイニーズバル%2520Cava？',\n",
       " '本家かのや',\n",
       " '鹿児島%2520かのや萩原',\n",
       " 'AOI%2520NAPOLI',\n",
       " 'グッドモーニングカフェルミネ池袋店',\n",
       " 'Skew',\n",
       " 'グッドモーニングカフェ錦町',\n",
       " 'グッドモーニングカフェ品川シーズンテラス',\n",
       " 'グッドモーニングカフェ千駄ヶ谷',\n",
       " 'グッドモーニングカフェ早稲田',\n",
       " 'グッドモーニングカフェ＆グリル虎ノ門',\n",
       " 'グッドモーニングカフェ＆グリルキュウリ',\n",
       " 'リバーサイドカフェシエロイリオ',\n",
       " 'シエロイリオヒガシ',\n",
       " 'リバヨン',\n",
       " 'ビストロバルトロワキュイアサヌマ',\n",
       " 'RIBAYON',\n",
       " 'ボン花火',\n",
       " 'アンティーカピッツェリアダミケーレ',\n",
       " 'アダッキオ',\n",
       " 'Privado',\n",
       " 'ウィーナムキーハイナンチキンライス日本本店',\n",
       " \"AD'ACCHIO\",\n",
       " '両国テラス',\n",
       " '両国テラスカフェ',\n",
       " '神田錦町%2520如月',\n",
       " 'トヨタマヴィラ',\n",
       " 'アップマーケットピッツァ＆カフェ',\n",
       " '両国テラス']"
      ]
     },
     "execution_count": 25,
     "metadata": {},
     "output_type": "execute_result"
    }
   ],
   "source": [
    "#エラーが出ないようにいいとこ取りしよう\n",
    "urls2 = list()\n",
    "i = 0\n",
    "for i in range(len(urls1)):\n",
    "    x =urls[i]\n",
    "    f = x.find(' ')\n",
    "    if f > 0:\n",
    "        urls2.append(urls1[i])\n",
    "    else:\n",
    "        urls2.append(urls[i])\n",
    "urls2"
   ]
  },
  {
   "cell_type": "code",
   "execution_count": 29,
   "metadata": {},
   "outputs": [
    {
     "data": {
      "text/plain": [
       "['https://tabelog.com/rstLst/?vs=1&sa=&sk=GARB%2520Tokyo&lid=hd_search1&vac_net=&svd=20171108&svt=1900&svps=2&hfc=1&sw=GARB%2520Tokyo',\n",
       " 'https://tabelog.com/rstLst/?vs=1&sa=&sk=GARB%2520pintino&lid=hd_search1&vac_net=&svd=20171108&svt=1900&svps=2&hfc=1&sw=GARB%2520pintino',\n",
       " 'https://tabelog.com/rstLst/?vs=1&sa=&sk=GARB%2520CENTRAL&lid=hd_search1&vac_net=&svd=20171108&svt=1900&svps=2&hfc=1&sw=GARB%2520CENTRAL',\n",
       " 'https://tabelog.com/rstLst/?vs=1&sa=&sk=鉄板チャイニーズバル%2520Cava？&lid=hd_search1&vac_net=&svd=20171108&svt=1900&svps=2&hfc=1&sw=鉄板チャイニーズバル%2520Cava？',\n",
       " 'https://tabelog.com/rstLst/?vs=1&sa=&sk=本家かのや&lid=hd_search1&vac_net=&svd=20171108&svt=1900&svps=2&hfc=1&sw=本家かのや']"
      ]
     },
     "execution_count": 29,
     "metadata": {},
     "output_type": "execute_result"
    }
   ],
   "source": [
    "#URL作って飛んでみる\n",
    "us = list()\n",
    "for i in range(len(urls2)):\n",
    "    b = ul + urls2[i] + ul2 + urls2[i]\n",
    "    us.append(b)\n",
    "us[:5]"
   ]
  },
  {
   "cell_type": "code",
   "execution_count": 30,
   "metadata": {},
   "outputs": [
    {
     "data": {
      "text/plain": [
       "['https://tabelog.com/tokyo/A1302/A130201/13026436/dtlrvwlst/',\n",
       " 'https://tabelog.com/tokyo/A1310/A131003/13182226/dtlrvwlst/',\n",
       " 'https://tabelog.com/tokyo/A1308/A130801/13193501/dtlrvwlst/',\n",
       " 'https://tabelog.com/tokyo/A1310/A131003/13182223/dtlrvwlst/',\n",
       " 'https://tabelog.com/tokyo/A1304/A130403/13032373/dtlrvwlst/']"
      ]
     },
     "execution_count": 30,
     "metadata": {},
     "output_type": "execute_result"
    }
   ],
   "source": [
    "#href : タグの属性、、\n",
    "#上記のURLでやったねってなったのだけのURLを取得\n",
    "i = 0\n",
    "bb = list()\n",
    "for i in range(len(us)):\n",
    "    session = requests.Session()\n",
    "    response = session.get(us[i])\n",
    "    root = lxml.html.fromstring(response.content)\n",
    "    root.make_links_absolute(response.url)  \n",
    "    for a in root.cssselect('a'):\n",
    "        aa= a.get(\"href\")\n",
    "        d = list()\n",
    "        if 'dtlrvwlst' in str(aa):\n",
    "            bb.append(aa)\n",
    "            d.append(aa)\n",
    "            if len(d) > 0:\n",
    "                break            \n",
    "bb[:5]"
   ]
  },
  {
   "cell_type": "code",
   "execution_count": 33,
   "metadata": {},
   "outputs": [
    {
     "name": "stdout",
     "output_type": "stream",
     "text": [
      "もともと： 32\n",
      "やったね: 29\n"
     ]
    }
   ],
   "source": [
    "print(\"もともと：\",len(us))\n",
    "print(\"やったね:\",len(bb))"
   ]
  },
  {
   "cell_type": "code",
   "execution_count": 32,
   "metadata": {
    "collapsed": true
   },
   "outputs": [],
   "source": [
    "#3つくらいのURLは残念だったんだね"
   ]
  },
  {
   "cell_type": "code",
   "execution_count": 34,
   "metadata": {},
   "outputs": [
    {
     "data": {
      "text/plain": [
       "['3.55', '3.53', '3.51']"
      ]
     },
     "execution_count": 34,
     "metadata": {},
     "output_type": "execute_result"
    }
   ],
   "source": [
    "#今度は朝昼夜の評価の数値を取ってくる、試しに1つだけやってみる\n",
    "rat = list()\n",
    "c = str(bb[0])\n",
    "cs = c.replace('dtlrvwlst', 'dtlratings')\n",
    "session = requests.Session()\n",
    "response = session.get(cs)\n",
    "root = lxml.html.fromstring(response.content)\n",
    "for x in root.cssselect('strong[class = \"score\"]'):\n",
    "    rat.append(x.text)\n",
    "rat"
   ]
  },
  {
   "cell_type": "code",
   "execution_count": 35,
   "metadata": {
    "collapsed": true
   },
   "outputs": [],
   "source": [
    "#colums = {morning, lunch, dinner}　とかにしてdfにしてまとめたら扱いやすそう\n",
    "i = 0\n",
    "rate = list()\n",
    "for i in range(len(bb)):\n",
    "    c = str(bb[i])\n",
    "    cs = c.replace('dtlrvwlst', 'dtlratings')\n",
    "    session = requests.Session()\n",
    "    response = session.get(cs)\n",
    "    root = lxml.html.fromstring(response.content)\n",
    "    for x in root.cssselect('strong[class = \"score\"]'):\n",
    "        rate.append(x.text)"
   ]
  },
  {
   "cell_type": "code",
   "execution_count": 44,
   "metadata": {
    "collapsed": true
   },
   "outputs": [],
   "source": [
    "import numpy as np\n",
    "import pandas as pd"
   ]
  },
  {
   "cell_type": "code",
   "execution_count": 42,
   "metadata": {},
   "outputs": [],
   "source": [
    "col = len(rate)/3"
   ]
  },
  {
   "cell_type": "code",
   "execution_count": 43,
   "metadata": {},
   "outputs": [
    {
     "data": {
      "text/plain": [
       "array([['3.55', '3.53', '3.51'],\n",
       "       ['3.46', '3.36', '3.25'],\n",
       "       ['3.50', '3.14', '3.50'],\n",
       "       ['3.06', '3.06', '3.03'],\n",
       "       ['3.28', '3.27', '3.08'],\n",
       "       ['3.13', '3.09', '3.14'],\n",
       "       ['3.55', '3.51', '3.55'],\n",
       "       ['3.54', '3.48', '3.51'],\n",
       "       ['3.28', '3.08', '3.48'],\n",
       "       ['3.09', '3.05', '3.09'],\n",
       "       ['3.06', '3.03', '3.06'],\n",
       "       ['3.55', '3.17', '3.55'],\n",
       "       ['3.14', '3.12', '3.08'],\n",
       "       ['3.53', '3.53', '3.17'],\n",
       "       ['3.28', '3.08', '3.47'],\n",
       "       ['3.04', '3.04', '-'],\n",
       "       ['3.04', '3.04', '-'],\n",
       "       ['3.32', '3.28', '3.09'],\n",
       "       ['3.61', '3.59', '3.61'],\n",
       "       ['3.55', '3.54', '3.45'],\n",
       "       ['3.05', '3.05', '-'],\n",
       "       ['3.58', '3.55', '3.58'],\n",
       "       ['3.55', '3.54', '3.45'],\n",
       "       ['3.41', '3.23', '3.51'],\n",
       "       ['3.41', '3.23', '3.51'],\n",
       "       ['3.54', '3.54', '-'],\n",
       "       ['3.21', '3.06', '3.21'],\n",
       "       ['3.21', '3.06', '3.21'],\n",
       "       ['3.41', '3.23', '3.51']], \n",
       "      dtype='<U4')"
      ]
     },
     "execution_count": 43,
     "metadata": {},
     "output_type": "execute_result"
    }
   ],
   "source": [
    "np.reshape(rate,(int(col),3))"
   ]
  },
  {
   "cell_type": "code",
   "execution_count": 45,
   "metadata": {
    "collapsed": true
   },
   "outputs": [],
   "source": [
    "value_df = pd.DataFrame(np.reshape(rate,(int(col),3)))"
   ]
  },
  {
   "cell_type": "code",
   "execution_count": 46,
   "metadata": {
    "collapsed": true
   },
   "outputs": [],
   "source": [
    "value_df.columns = ['morning', 'lunch', 'dinner']"
   ]
  },
  {
   "cell_type": "code",
   "execution_count": 47,
   "metadata": {},
   "outputs": [
    {
     "data": {
      "text/html": [
       "<div>\n",
       "<style>\n",
       "    .dataframe thead tr:only-child th {\n",
       "        text-align: right;\n",
       "    }\n",
       "\n",
       "    .dataframe thead th {\n",
       "        text-align: left;\n",
       "    }\n",
       "\n",
       "    .dataframe tbody tr th {\n",
       "        vertical-align: top;\n",
       "    }\n",
       "</style>\n",
       "<table border=\"1\" class=\"dataframe\">\n",
       "  <thead>\n",
       "    <tr style=\"text-align: right;\">\n",
       "      <th></th>\n",
       "      <th>morning</th>\n",
       "      <th>lunch</th>\n",
       "      <th>dinner</th>\n",
       "    </tr>\n",
       "  </thead>\n",
       "  <tbody>\n",
       "    <tr>\n",
       "      <th>0</th>\n",
       "      <td>3.55</td>\n",
       "      <td>3.53</td>\n",
       "      <td>3.51</td>\n",
       "    </tr>\n",
       "    <tr>\n",
       "      <th>1</th>\n",
       "      <td>3.46</td>\n",
       "      <td>3.36</td>\n",
       "      <td>3.25</td>\n",
       "    </tr>\n",
       "    <tr>\n",
       "      <th>2</th>\n",
       "      <td>3.50</td>\n",
       "      <td>3.14</td>\n",
       "      <td>3.50</td>\n",
       "    </tr>\n",
       "    <tr>\n",
       "      <th>3</th>\n",
       "      <td>3.06</td>\n",
       "      <td>3.06</td>\n",
       "      <td>3.03</td>\n",
       "    </tr>\n",
       "    <tr>\n",
       "      <th>4</th>\n",
       "      <td>3.28</td>\n",
       "      <td>3.27</td>\n",
       "      <td>3.08</td>\n",
       "    </tr>\n",
       "    <tr>\n",
       "      <th>5</th>\n",
       "      <td>3.13</td>\n",
       "      <td>3.09</td>\n",
       "      <td>3.14</td>\n",
       "    </tr>\n",
       "    <tr>\n",
       "      <th>6</th>\n",
       "      <td>3.55</td>\n",
       "      <td>3.51</td>\n",
       "      <td>3.55</td>\n",
       "    </tr>\n",
       "    <tr>\n",
       "      <th>7</th>\n",
       "      <td>3.54</td>\n",
       "      <td>3.48</td>\n",
       "      <td>3.51</td>\n",
       "    </tr>\n",
       "    <tr>\n",
       "      <th>8</th>\n",
       "      <td>3.28</td>\n",
       "      <td>3.08</td>\n",
       "      <td>3.48</td>\n",
       "    </tr>\n",
       "    <tr>\n",
       "      <th>9</th>\n",
       "      <td>3.09</td>\n",
       "      <td>3.05</td>\n",
       "      <td>3.09</td>\n",
       "    </tr>\n",
       "    <tr>\n",
       "      <th>10</th>\n",
       "      <td>3.06</td>\n",
       "      <td>3.03</td>\n",
       "      <td>3.06</td>\n",
       "    </tr>\n",
       "    <tr>\n",
       "      <th>11</th>\n",
       "      <td>3.55</td>\n",
       "      <td>3.17</td>\n",
       "      <td>3.55</td>\n",
       "    </tr>\n",
       "    <tr>\n",
       "      <th>12</th>\n",
       "      <td>3.14</td>\n",
       "      <td>3.12</td>\n",
       "      <td>3.08</td>\n",
       "    </tr>\n",
       "    <tr>\n",
       "      <th>13</th>\n",
       "      <td>3.53</td>\n",
       "      <td>3.53</td>\n",
       "      <td>3.17</td>\n",
       "    </tr>\n",
       "    <tr>\n",
       "      <th>14</th>\n",
       "      <td>3.28</td>\n",
       "      <td>3.08</td>\n",
       "      <td>3.47</td>\n",
       "    </tr>\n",
       "    <tr>\n",
       "      <th>15</th>\n",
       "      <td>3.04</td>\n",
       "      <td>3.04</td>\n",
       "      <td>-</td>\n",
       "    </tr>\n",
       "    <tr>\n",
       "      <th>16</th>\n",
       "      <td>3.04</td>\n",
       "      <td>3.04</td>\n",
       "      <td>-</td>\n",
       "    </tr>\n",
       "    <tr>\n",
       "      <th>17</th>\n",
       "      <td>3.32</td>\n",
       "      <td>3.28</td>\n",
       "      <td>3.09</td>\n",
       "    </tr>\n",
       "    <tr>\n",
       "      <th>18</th>\n",
       "      <td>3.61</td>\n",
       "      <td>3.59</td>\n",
       "      <td>3.61</td>\n",
       "    </tr>\n",
       "    <tr>\n",
       "      <th>19</th>\n",
       "      <td>3.55</td>\n",
       "      <td>3.54</td>\n",
       "      <td>3.45</td>\n",
       "    </tr>\n",
       "    <tr>\n",
       "      <th>20</th>\n",
       "      <td>3.05</td>\n",
       "      <td>3.05</td>\n",
       "      <td>-</td>\n",
       "    </tr>\n",
       "    <tr>\n",
       "      <th>21</th>\n",
       "      <td>3.58</td>\n",
       "      <td>3.55</td>\n",
       "      <td>3.58</td>\n",
       "    </tr>\n",
       "    <tr>\n",
       "      <th>22</th>\n",
       "      <td>3.55</td>\n",
       "      <td>3.54</td>\n",
       "      <td>3.45</td>\n",
       "    </tr>\n",
       "    <tr>\n",
       "      <th>23</th>\n",
       "      <td>3.41</td>\n",
       "      <td>3.23</td>\n",
       "      <td>3.51</td>\n",
       "    </tr>\n",
       "    <tr>\n",
       "      <th>24</th>\n",
       "      <td>3.41</td>\n",
       "      <td>3.23</td>\n",
       "      <td>3.51</td>\n",
       "    </tr>\n",
       "    <tr>\n",
       "      <th>25</th>\n",
       "      <td>3.54</td>\n",
       "      <td>3.54</td>\n",
       "      <td>-</td>\n",
       "    </tr>\n",
       "    <tr>\n",
       "      <th>26</th>\n",
       "      <td>3.21</td>\n",
       "      <td>3.06</td>\n",
       "      <td>3.21</td>\n",
       "    </tr>\n",
       "    <tr>\n",
       "      <th>27</th>\n",
       "      <td>3.21</td>\n",
       "      <td>3.06</td>\n",
       "      <td>3.21</td>\n",
       "    </tr>\n",
       "    <tr>\n",
       "      <th>28</th>\n",
       "      <td>3.41</td>\n",
       "      <td>3.23</td>\n",
       "      <td>3.51</td>\n",
       "    </tr>\n",
       "  </tbody>\n",
       "</table>\n",
       "</div>"
      ],
      "text/plain": [
       "   morning lunch dinner\n",
       "0     3.55  3.53   3.51\n",
       "1     3.46  3.36   3.25\n",
       "2     3.50  3.14   3.50\n",
       "3     3.06  3.06   3.03\n",
       "4     3.28  3.27   3.08\n",
       "5     3.13  3.09   3.14\n",
       "6     3.55  3.51   3.55\n",
       "7     3.54  3.48   3.51\n",
       "8     3.28  3.08   3.48\n",
       "9     3.09  3.05   3.09\n",
       "10    3.06  3.03   3.06\n",
       "11    3.55  3.17   3.55\n",
       "12    3.14  3.12   3.08\n",
       "13    3.53  3.53   3.17\n",
       "14    3.28  3.08   3.47\n",
       "15    3.04  3.04      -\n",
       "16    3.04  3.04      -\n",
       "17    3.32  3.28   3.09\n",
       "18    3.61  3.59   3.61\n",
       "19    3.55  3.54   3.45\n",
       "20    3.05  3.05      -\n",
       "21    3.58  3.55   3.58\n",
       "22    3.55  3.54   3.45\n",
       "23    3.41  3.23   3.51\n",
       "24    3.41  3.23   3.51\n",
       "25    3.54  3.54      -\n",
       "26    3.21  3.06   3.21\n",
       "27    3.21  3.06   3.21\n",
       "28    3.41  3.23   3.51"
      ]
     },
     "execution_count": 47,
     "metadata": {},
     "output_type": "execute_result"
    }
   ],
   "source": [
    "value_df"
   ]
  },
  {
   "cell_type": "code",
   "execution_count": null,
   "metadata": {
    "collapsed": true
   },
   "outputs": [],
   "source": []
  }
 ],
 "metadata": {
  "kernelspec": {
   "display_name": "Python 3",
   "language": "python",
   "name": "python3"
  },
  "language_info": {
   "codemirror_mode": {
    "name": "ipython",
    "version": 3
   },
   "file_extension": ".py",
   "mimetype": "text/x-python",
   "name": "python",
   "nbconvert_exporter": "python",
   "pygments_lexer": "ipython3",
   "version": "3.6.1"
  }
 },
 "nbformat": 4,
 "nbformat_minor": 2
}
