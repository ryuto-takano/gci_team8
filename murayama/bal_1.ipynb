{
 "cells": [
  {
   "cell_type": "code",
   "execution_count": 1,
   "metadata": {
    "collapsed": true
   },
   "outputs": [],
   "source": [
    "#必要なライブラリを揃える\n",
    "import requests\n",
    "import lxml.html\n",
    "from xml.etree.ElementTree import *"
   ]
  },
  {
   "cell_type": "code",
   "execution_count": 2,
   "metadata": {
    "collapsed": true
   },
   "outputs": [],
   "source": [
    "#bal.ipyb のやつと同じ\n",
    "def shop_name(x):\n",
    "    session = requests.Session()\n",
    "    response = session.get(x)\n",
    "    urls = list()\n",
    "    root = lxml.html.fromstring(response.content)\n",
    "    root.make_links_absolute(response.url)  \n",
    "    for a in root.cssselect('a'):\n",
    "        url = a.get(\"href\")\n",
    "        urls.append(url)\n",
    "    i = 0\n",
    "    ipc = list()\n",
    "    for i in range(len(urls)):\n",
    "        if \"shops\" in urls[i]:\n",
    "                   ipc.append(urls[i])\n",
    "        else:\n",
    "                   pass\n",
    "    ipcs = ipc[1:]\n",
    "    ipcl = ipcs[12:-2]\n",
    "    import re\n",
    "    session = requests.Session()\n",
    "    i = 0\n",
    "    dic = dict()\n",
    "    lis = list()\n",
    "    lis2 = list()\n",
    "    for url in ipcl:\n",
    "        response = session.get(url)\n",
    "        root = lxml.html.fromstring(response.content)\n",
    "        for x in root.cssselect('h3[class =\"H3_shopinfo\"]'):\n",
    "            lis.append(x.text)\n",
    "    wrl =list()\n",
    "    i= 0\n",
    "    for i in range(len(lis)):\n",
    "        l = lis[i]\n",
    "        la = l[1:-2]\n",
    "        wrl.append(la)\n",
    "    wrl\n",
    "    return wrl"
   ]
  },
  {
   "cell_type": "code",
   "execution_count": null,
   "metadata": {
    "collapsed": true
   },
   "outputs": [],
   "source": []
  }
 ],
 "metadata": {
  "kernelspec": {
   "display_name": "Python 3",
   "language": "python",
   "name": "python3"
  },
  "language_info": {
   "codemirror_mode": {
    "name": "ipython",
    "version": 3
   },
   "file_extension": ".py",
   "mimetype": "text/x-python",
   "name": "python",
   "nbconvert_exporter": "python",
   "pygments_lexer": "ipython3",
   "version": "3.6.1"
  }
 },
 "nbformat": 4,
 "nbformat_minor": 2
}
