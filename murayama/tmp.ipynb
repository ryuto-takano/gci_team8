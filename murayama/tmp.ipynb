{
 "cells": [
  {
   "cell_type": "code",
   "execution_count": 6,
   "metadata": {
    "collapsed": true
   },
   "outputs": [],
   "source": [
    "# 必要なライブラリのインポート\n",
    "import requests\n",
    "import lxml.html\n",
    "from xml.etree.ElementTree import *\n",
    "import pandas as pd\n",
    "from pandas import DataFrame as df\n",
    "import re"
   ]
  },
  {
   "cell_type": "code",
   "execution_count": 7,
   "metadata": {},
   "outputs": [
    {
     "name": "stdout",
     "output_type": "stream",
     "text": [
      "['ガーブ 東京 ', 'ガーブ ピンティーノ ', 'ガーブ セントラル ', '鉄板チャイニーズバル サヴァ？ ', ' ', ' ', '青いナポリ ', '青いナポリ ブルー バー ', 'スキュー ', 'グッドモーニングカフェ ルミネ池袋店 ', 'グッドモーニングカフェ 中野セントラルパーク ', 'グッドモーニングカフェ 錦町 ', 'グッドモーニングカフェ 品川シーズンテラス ', 'グッドモーニングカフェ 千駄ヶ谷 ', 'グッドモーニングカフェ 早稲田 ', 'グッドモーニングカフェ＆グリル 虎ノ門 ', 'グッドモーニングカフェ＆グリル キュウリ ', 'リバーサイドカフェ シエロ イ リオ ', 'シエロ イ リオ ヒガシ ', 'リバヨン ', ' ', 'ビストロバル トロワキュイ アサヌマ ', 'バー バー リバールーム 蔵駒 ', 'プリバード ', 'アンティーカ ピッツェリア ダ ミケーレ ', 'アダッキオ ', 'スロージェットコーヒー ', ' ', ' ', 'ウィーナムキー ハイナンチキンライス 日本本店 ', 'クッチーナカフェ オリーヴァ ', '両国テラス ', 'ミラー ', 'ガーブ 江ノ島 ', 'トヨタマ ヴィラ ', 'アップマーケット ピッツァ＆カフェ ', 'オープンテラス ミーイート ']\n"
     ]
    }
   ],
   "source": [
    "#変更点\n",
    "session = requests.Session()\n",
    "response = session.get('http://www.balnibarbi.com/shops/east.php')\n",
    "urls = list()\n",
    "root = lxml.html.fromstring(response.content)\n",
    "root.make_links_absolute(response.url)  \n",
    "\n",
    "for a in root.cssselect('a'):\n",
    "    url = a.get('href')\n",
    "    urls.append(url)\n",
    "i = 0\n",
    "ipc = list()\n",
    "for i in range(len(urls)):\n",
    "    if 'shops' in urls[i]:\n",
    "        ipc.append(urls[i])\n",
    "    else:\n",
    "        pass\n",
    "ipcs = ipc[1:]\n",
    "ipcl = ipcs[12:-2]\n",
    "\n",
    "i = 0\n",
    "dic = dict()\n",
    "lis = list()\n",
    "lis2 = list()\n",
    "for url in ipcl:\n",
    "    response = session.get(url)\n",
    "    root = lxml.html.fromstring(response.content)\n",
    "    for x in root.cssselect('span'):\n",
    "        lis.append(x.text)\n",
    "i = 0\n",
    "for i in range(len(lis)):\n",
    "    l = str(lis[i])\n",
    "    if '\\n' in l:\n",
    "        ls = l.replace('\\n', '')\n",
    "        ld = ls.replace(' ',' ')\n",
    "        lis2.append(ld)\n",
    "while lis2.count(\"\") > 0:\n",
    "    lis2.remove(\"\")\n",
    "print(lis2)"
   ]
  },
  {
   "cell_type": "code",
   "execution_count": null,
   "metadata": {
    "collapsed": true
   },
   "outputs": [],
   "source": []
  }
 ],
 "metadata": {
  "kernelspec": {
   "display_name": "Python 3",
   "language": "python",
   "name": "python3"
  },
  "language_info": {
   "codemirror_mode": {
    "name": "ipython",
    "version": 3
   },
   "file_extension": ".py",
   "mimetype": "text/x-python",
   "name": "python",
   "nbconvert_exporter": "python",
   "pygments_lexer": "ipython3",
   "version": "3.6.1"
  }
 },
 "nbformat": 4,
 "nbformat_minor": 2
}
