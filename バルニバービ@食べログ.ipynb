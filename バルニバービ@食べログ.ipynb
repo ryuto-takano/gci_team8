{
 "cells": [
  {
   "cell_type": "markdown",
   "metadata": {},
   "source": [
    "## 今回は食べログの評価をスクレイピング！"
   ]
  },
  {
   "cell_type": "markdown",
   "metadata": {},
   "source": [
    "https://tabelog.com/tokyo/A1302/A130201/13026436/dtlratings/"
   ]
  },
  {
   "cell_type": "code",
   "execution_count": 2,
   "metadata": {
    "collapsed": true
   },
   "outputs": [],
   "source": [
    "## 前回の分析で手に入れた、店名のリストを使って分析します。"
   ]
  },
  {
   "cell_type": "code",
   "execution_count": 3,
   "metadata": {
    "collapsed": true
   },
   "outputs": [],
   "source": [
    "import requests\n",
    "import lxml.html\n",
    "from xml.etree.ElementTree import *"
   ]
  },
  {
   "cell_type": "code",
   "execution_count": 4,
   "metadata": {
    "collapsed": true
   },
   "outputs": [],
   "source": [
    "def shop_name(x):\n",
    "    session = requests.Session()\n",
    "    response = session.get(x)\n",
    "    urls = list()\n",
    "    root = lxml.html.fromstring(response.content)\n",
    "    root.make_links_absolute(response.url)  \n",
    "    for a in root.cssselect('a'):\n",
    "        url = a.get(\"href\")\n",
    "        urls.append(url)\n",
    "    i = 0\n",
    "    ipc = list()\n",
    "    for i in range(len(urls)):\n",
    "        if \"shops\" in urls[i]:\n",
    "                   ipc.append(urls[i])\n",
    "        else:\n",
    "                   pass\n",
    "    ipcs = ipc[1:]\n",
    "    ipcl = ipcs[12:-2]\n",
    "    import re\n",
    "    session = requests.Session()\n",
    "    i = 0\n",
    "    dic = dict()\n",
    "    lis = list()\n",
    "    lis2 = list()\n",
    "    for url in ipcl:\n",
    "        response = session.get(url)\n",
    "        root = lxml.html.fromstring(response.content)\n",
    "        for x in root.cssselect('h3[class =\"H3_shopinfo\"]'):\n",
    "            lis.append(x.text)\n",
    "    wrl =list()\n",
    "    i= 0\n",
    "    for i in range(len(lis)):\n",
    "        l = lis[i]\n",
    "        la = l[1:-2]\n",
    "        wrl.append(la)\n",
    "    wrl\n",
    "    return wrl"
   ]
  },
  {
   "cell_type": "code",
   "execution_count": 5,
   "metadata": {
    "collapsed": true,
    "scrolled": true
   },
   "outputs": [],
   "source": [
    "def shop_name1(x):\n",
    "    session = requests.Session()\n",
    "    response = session.get(x)\n",
    "    urls = list()\n",
    "    root = lxml.html.fromstring(response.content)\n",
    "    root.make_links_absolute(response.url)  \n",
    "    for a in root.cssselect('a'):\n",
    "        url = a.get(\"href\")\n",
    "        urls.append(url)\n",
    "    i = 0\n",
    "    ipc = list()\n",
    "    for i in range(len(urls)):\n",
    "        if \"shops\" in urls[i]:\n",
    "            ipc.append(urls[i])\n",
    "        else:\n",
    "            pass\n",
    "    ipcs = ipc[1:]\n",
    "    ipcl = ipcs[12:-2]\n",
    "    import re\n",
    "    i = 0\n",
    "    dic = dict()\n",
    "    lis = list()\n",
    "    lis2 = list()\n",
    "    for url in ipcl:\n",
    "        response = session.get(url)\n",
    "        root = lxml.html.fromstring(response.content)\n",
    "        for x in root.cssselect('span'):\n",
    "            lis.append(x.text)\n",
    "    i = 0\n",
    "    for i in range(len(lis)):\n",
    "        l = str(lis[i])\n",
    "        if \"\\n\" in l:\n",
    "            ls = l.replace('\\n', '')\n",
    "            ld = ls.replace(' ','')\n",
    "            lis2.append(ld)\n",
    "    while lis2.count(\"\") > 0:\n",
    "        lis2.remove(\"\")\n",
    "    return  lis2"
   ]
  },
  {
   "cell_type": "code",
   "execution_count": 6,
   "metadata": {
    "collapsed": true
   },
   "outputs": [],
   "source": [
    "erl = list()\n",
    "wrl = list()\n",
    "arl = list()\n",
    "srl = list()\n",
    "erl = shop_name1(\"http://www.balnibarbi.com/shops/east.php\")\n",
    "srl =  shop_name1(\"http://www.balnibarbi.com/shops/sweets.php\")\n",
    "arl =  shop_name1(\"http://www.balnibarbi.com/shops/asushoku.php\")\n",
    "wrl = shop_name1(\"http://www.balnibarbi.com/shops/west.php\")"
   ]
  },
  {
   "cell_type": "code",
   "execution_count": 7,
   "metadata": {
    "collapsed": true
   },
   "outputs": [],
   "source": [
    "eerl = list()\n",
    "wwrl = list()\n",
    "aarl = list()\n",
    "ssrl = list()\n",
    "eerl = shop_name(\"http://www.balnibarbi.com/shops/east.php\")\n",
    "ssrl =  shop_name(\"http://www.balnibarbi.com/shops/sweets.php\")\n",
    "aarl =  shop_name(\"http://www.balnibarbi.com/shops/asushoku.php\")\n",
    "wwrl = shop_name(\"http://www.balnibarbi.com/shops/west.php\")"
   ]
  },
  {
   "cell_type": "code",
   "execution_count": 8,
   "metadata": {
    "collapsed": true
   },
   "outputs": [
    {
     "data": {
      "text/plain": [
       "['ガーブ東京',\n",
       " 'ガーブピンティーノ',\n",
       " 'ガーブセントラル',\n",
       " '鉄板チャイニーズバルサヴァ？',\n",
       " '青いナポリ',\n",
       " '青いナポリブルーバー',\n",
       " 'スキュー',\n",
       " 'グッドモーニングカフェルミネ池袋店',\n",
       " 'グッドモーニングカフェ中野セントラルパーク',\n",
       " 'グッドモーニングカフェ錦町',\n",
       " 'グッドモーニングカフェ品川シーズンテラス',\n",
       " 'グッドモーニングカフェ千駄ヶ谷',\n",
       " 'グッドモーニングカフェ早稲田',\n",
       " 'グッドモーニングカフェ＆グリル虎ノ門',\n",
       " 'グッドモーニングカフェ＆グリルキュウリ',\n",
       " 'リバーサイドカフェシエロイリオ',\n",
       " 'シエロイリオヒガシ',\n",
       " 'リバヨン',\n",
       " 'ビストロバルトロワキュイアサヌマ',\n",
       " 'バーバーリバールーム蔵駒',\n",
       " 'プリバード',\n",
       " 'アンティーカピッツェリアダミケーレ',\n",
       " 'アダッキオ',\n",
       " 'スロージェットコーヒー',\n",
       " 'ウィーナムキーハイナンチキンライス日本本店',\n",
       " 'クッチーナカフェオリーヴァ',\n",
       " '両国テラス',\n",
       " 'ミラー',\n",
       " 'ガーブ江ノ島',\n",
       " 'トヨタマヴィラ',\n",
       " 'アップマーケットピッツァ＆カフェ',\n",
       " 'オープンテラスミーイート']"
      ]
     },
     "execution_count": 8,
     "metadata": {},
     "output_type": "execute_result"
    }
   ],
   "source": [
    "erl"
   ]
  },
  {
   "cell_type": "code",
   "execution_count": 9,
   "metadata": {
    "collapsed": true
   },
   "outputs": [
    {
     "data": {
      "text/plain": [
       "['GARB Tokyo',\n",
       " 'GARB pintino',\n",
       " 'GARB CENTRAL',\n",
       " '鉄板チャイニーズバル Cava？',\n",
       " '本家かのや',\n",
       " '鹿児島 かのや萩原',\n",
       " 'AOI NAPOLI',\n",
       " '青いナポリ Blue Bar',\n",
       " 'Skew',\n",
       " 'GOOD MORNING CAFE ルミネ池袋',\n",
       " 'GOOD MORNING CAF',\n",
       " 'GOOD MORNING CAFE 錦町',\n",
       " 'GOOD MORNING CAFE 品川シーズンテラス',\n",
       " 'GOOD MORNING CAFE 千駄ヶ谷',\n",
       " 'GOOD MORNING CAFE 早稲田',\n",
       " 'GOOD MORNING CAFE & GRILL 虎ノ門',\n",
       " 'GOOD MORNING CAFE & GRILL キュウリ',\n",
       " 'Riverside Cafe Cielo y Rio',\n",
       " 'Cielo y Rio HIGASHI',\n",
       " 'RIBAYON',\n",
       " 'ボン花火',\n",
       " 'BistroBar TROIS CUIT ASANUMA',\n",
       " 'BAR RIVER ROOM KURAKOMA',\n",
       " 'Privado',\n",
       " \"L'Antica Pizzeria da Michele\",\n",
       " \"AD'ACCHIO\",\n",
       " 'SLOW JET COFFEE',\n",
       " '両国テラスカフェ',\n",
       " '神田錦町 如月',\n",
       " 'Wee Nam Kee Hainanese Chicken Rice',\n",
       " 'Cucina Caffe OLIVA',\n",
       " '両国テラス',\n",
       " 'MIRROR',\n",
       " 'GARB 江ノ島',\n",
       " 'TOYOTAMA VILLA',\n",
       " 'UPMARKET PIZZA&CAFE',\n",
       " 'OPEN TERRACE ME-EAT']"
      ]
     },
     "execution_count": 9,
     "metadata": {},
     "output_type": "execute_result"
    }
   ],
   "source": [
    "eerl"
   ]
  },
  {
   "cell_type": "markdown",
   "metadata": {},
   "source": [
    "ここまでで、店名のリストを検索用に作ることができました。"
   ]
  },
  {
   "cell_type": "markdown",
   "metadata": {},
   "source": [
    "とりあえず、東日本のレストランで第１項目の「GARB Tokyo」について、うまくデータが取れるかやってみます。"
   ]
  },
  {
   "cell_type": "markdown",
   "metadata": {},
   "source": [
    "↓これが、「GARB Tokyo」で検索した場合のurl"
   ]
  },
  {
   "cell_type": "markdown",
   "metadata": {},
   "source": [
    "https://tabelog.com/rstLst/?vs=1&sa=&sk=GARB%2520Tokyo&lid=hd_search1&vac_net=&svd=20171108&svt=1900&svps=2&hfc=1&sw=GARB%2520Tokyo"
   ]
  },
  {
   "cell_type": "markdown",
   "metadata": {},
   "source": [
    "↓これが、「ガーブ東京」で検索した場合のurl"
   ]
  },
  {
   "cell_type": "markdown",
   "metadata": {},
   "source": [
    "https://tabelog.com/rstLst/?vs=1&sa=&sk=%25E3%2582%25AC%25E3%2583%25BC%25E3%2583%2596%25E6%259D%25B1%25E4%25BA%25AC&lid=hd_search1&vac_net=&svd=20171108&svt=1900&svps=2&hfc=1&sw=%25E3%2582%25AC%25E3%2583%25BC%25E3%2583%2596%25E6%259D%25B1%25E4%25BA%25AC"
   ]
  },
  {
   "cell_type": "code",
   "execution_count": 1,
   "metadata": {
    "collapsed": true
   },
   "outputs": [],
   "source": [
    "## 今回は、「GARB Tokyo」で検索しないとうまく店が出てこないみたい"
   ]
  },
  {
   "cell_type": "code",
   "execution_count": 39,
   "metadata": {},
   "outputs": [],
   "source": [
    "ul = \"https://tabelog.com/rstLst/?vs=1&sa=&sk=\" \n",
    "ul2 =\"&lid=hd_search1&vac_net=&svd=20171108&svt=1900&svps=2&hfc=1&sw=\" "
   ]
  },
  {
   "cell_type": "markdown",
   "metadata": {},
   "source": [
    "「GARB Tokyo」で検索したurlにするためには、「GARB%2520Tokyo」のように、%2520を挟む必要がある。最適な検索用の単語を集めたリストを作る。"
   ]
  },
  {
   "cell_type": "code",
   "execution_count": 24,
   "metadata": {},
   "outputs": [
    {
     "data": {
      "text/plain": [
       "'GARB%2520Tokyo'"
      ]
     },
     "execution_count": 24,
     "metadata": {},
     "output_type": "execute_result"
    }
   ],
   "source": [
    "x = eerl[0]\n",
    "f = x.find(' ')\n",
    "y = x[0:f]+\"%2520\"+x[f+1:]\n",
    "y"
   ]
  },
  {
   "cell_type": "code",
   "execution_count": 34,
   "metadata": {
    "collapsed": true
   },
   "outputs": [],
   "source": [
    "def url(a):\n",
    "    i = 0\n",
    "    urls = list()\n",
    "    for i in range(len(a)):\n",
    "        x = a[i]\n",
    "        f = x.find(' ')\n",
    "        if f > 0:\n",
    "            y = x[0:f]+\"%2520\"+x[f+1:]\n",
    "            urls.append(y)\n",
    "        else:\n",
    "            y = x\n",
    "            urls.append(y)\n",
    "    return urls"
   ]
  },
  {
   "cell_type": "code",
   "execution_count": 37,
   "metadata": {},
   "outputs": [],
   "source": [
    "urls = url(eerl)\n",
    "urls1 = url(erl)"
   ]
  },
  {
   "cell_type": "code",
   "execution_count": 33,
   "metadata": {
    "collapsed": true
   },
   "outputs": [
    {
     "data": {
      "text/plain": [
       "['GARB%2520Tokyo',\n",
       " 'GARB%2520pintino',\n",
       " 'GARB%2520CENTRAL',\n",
       " '鉄板チャイニーズバル%2520Cava？',\n",
       " '本家かのや',\n",
       " '鹿児島%2520かのや萩原',\n",
       " 'AOI%2520NAPOLI',\n",
       " 'グッドモーニングカフェルミネ池袋店',\n",
       " 'Skew',\n",
       " 'グッドモーニングカフェ錦町',\n",
       " 'グッドモーニングカフェ品川シーズンテラス',\n",
       " 'グッドモーニングカフェ千駄ヶ谷',\n",
       " 'グッドモーニングカフェ早稲田',\n",
       " 'グッドモーニングカフェ＆グリル虎ノ門',\n",
       " 'グッドモーニングカフェ＆グリルキュウリ',\n",
       " 'リバーサイドカフェシエロイリオ',\n",
       " 'シエロイリオヒガシ',\n",
       " 'リバヨン',\n",
       " 'ビストロバルトロワキュイアサヌマ',\n",
       " 'RIBAYON',\n",
       " 'ボン花火',\n",
       " 'アンティーカピッツェリアダミケーレ',\n",
       " 'アダッキオ',\n",
       " 'Privado',\n",
       " 'ウィーナムキーハイナンチキンライス日本本店',\n",
       " \"AD'ACCHIO\",\n",
       " '両国テラス',\n",
       " '両国テラスカフェ',\n",
       " '神田錦町%2520如月',\n",
       " 'トヨタマヴィラ',\n",
       " 'アップマーケットピッツァ＆カフェ',\n",
       " '両国テラス']"
      ]
     },
     "execution_count": 33,
     "metadata": {},
     "output_type": "execute_result"
    }
   ],
   "source": [
    "urls2 = list()\n",
    "i = 0\n",
    "for i in range(len(urls1)):\n",
    "    x =urls[i]\n",
    "    f = x.find(' ')\n",
    "    if f > 0:\n",
    "        urls2.append(urls1[i])\n",
    "    else:\n",
    "        urls2.append(urls[i])\n",
    "urls2"
   ]
  },
  {
   "cell_type": "code",
   "execution_count": 38,
   "metadata": {
    "collapsed": true
   },
   "outputs": [],
   "source": [
    "## とりあえず、urls2を使って、個別の食べログページに飛んでみる。"
   ]
  },
  {
   "cell_type": "code",
   "execution_count": 43,
   "metadata": {
    "collapsed": true
   },
   "outputs": [
    {
     "data": {
      "text/plain": [
       "['https://tabelog.com/rstLst/?vs=1&sa=&sk=GARB%2520Tokyo&lid=hd_search1&vac_net=&svd=20171108&svt=1900&svps=2&hfc=1&sw=GARB%2520Tokyo',\n",
       " 'https://tabelog.com/rstLst/?vs=1&sa=&sk=GARB%2520pintino&lid=hd_search1&vac_net=&svd=20171108&svt=1900&svps=2&hfc=1&sw=GARB%2520pintino',\n",
       " 'https://tabelog.com/rstLst/?vs=1&sa=&sk=GARB%2520CENTRAL&lid=hd_search1&vac_net=&svd=20171108&svt=1900&svps=2&hfc=1&sw=GARB%2520CENTRAL',\n",
       " 'https://tabelog.com/rstLst/?vs=1&sa=&sk=鉄板チャイニーズバル%2520Cava？&lid=hd_search1&vac_net=&svd=20171108&svt=1900&svps=2&hfc=1&sw=鉄板チャイニーズバル%2520Cava？',\n",
       " 'https://tabelog.com/rstLst/?vs=1&sa=&sk=本家かのや&lid=hd_search1&vac_net=&svd=20171108&svt=1900&svps=2&hfc=1&sw=本家かのや',\n",
       " 'https://tabelog.com/rstLst/?vs=1&sa=&sk=鹿児島%2520かのや萩原&lid=hd_search1&vac_net=&svd=20171108&svt=1900&svps=2&hfc=1&sw=鹿児島%2520かのや萩原',\n",
       " 'https://tabelog.com/rstLst/?vs=1&sa=&sk=AOI%2520NAPOLI&lid=hd_search1&vac_net=&svd=20171108&svt=1900&svps=2&hfc=1&sw=AOI%2520NAPOLI',\n",
       " 'https://tabelog.com/rstLst/?vs=1&sa=&sk=グッドモーニングカフェルミネ池袋店&lid=hd_search1&vac_net=&svd=20171108&svt=1900&svps=2&hfc=1&sw=グッドモーニングカフェルミネ池袋店',\n",
       " 'https://tabelog.com/rstLst/?vs=1&sa=&sk=Skew&lid=hd_search1&vac_net=&svd=20171108&svt=1900&svps=2&hfc=1&sw=Skew',\n",
       " 'https://tabelog.com/rstLst/?vs=1&sa=&sk=グッドモーニングカフェ錦町&lid=hd_search1&vac_net=&svd=20171108&svt=1900&svps=2&hfc=1&sw=グッドモーニングカフェ錦町',\n",
       " 'https://tabelog.com/rstLst/?vs=1&sa=&sk=グッドモーニングカフェ品川シーズンテラス&lid=hd_search1&vac_net=&svd=20171108&svt=1900&svps=2&hfc=1&sw=グッドモーニングカフェ品川シーズンテラス',\n",
       " 'https://tabelog.com/rstLst/?vs=1&sa=&sk=グッドモーニングカフェ千駄ヶ谷&lid=hd_search1&vac_net=&svd=20171108&svt=1900&svps=2&hfc=1&sw=グッドモーニングカフェ千駄ヶ谷',\n",
       " 'https://tabelog.com/rstLst/?vs=1&sa=&sk=グッドモーニングカフェ早稲田&lid=hd_search1&vac_net=&svd=20171108&svt=1900&svps=2&hfc=1&sw=グッドモーニングカフェ早稲田',\n",
       " 'https://tabelog.com/rstLst/?vs=1&sa=&sk=グッドモーニングカフェ＆グリル虎ノ門&lid=hd_search1&vac_net=&svd=20171108&svt=1900&svps=2&hfc=1&sw=グッドモーニングカフェ＆グリル虎ノ門',\n",
       " 'https://tabelog.com/rstLst/?vs=1&sa=&sk=グッドモーニングカフェ＆グリルキュウリ&lid=hd_search1&vac_net=&svd=20171108&svt=1900&svps=2&hfc=1&sw=グッドモーニングカフェ＆グリルキュウリ',\n",
       " 'https://tabelog.com/rstLst/?vs=1&sa=&sk=リバーサイドカフェシエロイリオ&lid=hd_search1&vac_net=&svd=20171108&svt=1900&svps=2&hfc=1&sw=リバーサイドカフェシエロイリオ',\n",
       " 'https://tabelog.com/rstLst/?vs=1&sa=&sk=シエロイリオヒガシ&lid=hd_search1&vac_net=&svd=20171108&svt=1900&svps=2&hfc=1&sw=シエロイリオヒガシ',\n",
       " 'https://tabelog.com/rstLst/?vs=1&sa=&sk=リバヨン&lid=hd_search1&vac_net=&svd=20171108&svt=1900&svps=2&hfc=1&sw=リバヨン',\n",
       " 'https://tabelog.com/rstLst/?vs=1&sa=&sk=ビストロバルトロワキュイアサヌマ&lid=hd_search1&vac_net=&svd=20171108&svt=1900&svps=2&hfc=1&sw=ビストロバルトロワキュイアサヌマ',\n",
       " 'https://tabelog.com/rstLst/?vs=1&sa=&sk=RIBAYON&lid=hd_search1&vac_net=&svd=20171108&svt=1900&svps=2&hfc=1&sw=RIBAYON',\n",
       " 'https://tabelog.com/rstLst/?vs=1&sa=&sk=ボン花火&lid=hd_search1&vac_net=&svd=20171108&svt=1900&svps=2&hfc=1&sw=ボン花火',\n",
       " 'https://tabelog.com/rstLst/?vs=1&sa=&sk=アンティーカピッツェリアダミケーレ&lid=hd_search1&vac_net=&svd=20171108&svt=1900&svps=2&hfc=1&sw=アンティーカピッツェリアダミケーレ',\n",
       " 'https://tabelog.com/rstLst/?vs=1&sa=&sk=アダッキオ&lid=hd_search1&vac_net=&svd=20171108&svt=1900&svps=2&hfc=1&sw=アダッキオ',\n",
       " 'https://tabelog.com/rstLst/?vs=1&sa=&sk=Privado&lid=hd_search1&vac_net=&svd=20171108&svt=1900&svps=2&hfc=1&sw=Privado',\n",
       " 'https://tabelog.com/rstLst/?vs=1&sa=&sk=ウィーナムキーハイナンチキンライス日本本店&lid=hd_search1&vac_net=&svd=20171108&svt=1900&svps=2&hfc=1&sw=ウィーナムキーハイナンチキンライス日本本店',\n",
       " \"https://tabelog.com/rstLst/?vs=1&sa=&sk=AD'ACCHIO&lid=hd_search1&vac_net=&svd=20171108&svt=1900&svps=2&hfc=1&sw=AD'ACCHIO\",\n",
       " 'https://tabelog.com/rstLst/?vs=1&sa=&sk=両国テラス&lid=hd_search1&vac_net=&svd=20171108&svt=1900&svps=2&hfc=1&sw=両国テラス',\n",
       " 'https://tabelog.com/rstLst/?vs=1&sa=&sk=両国テラスカフェ&lid=hd_search1&vac_net=&svd=20171108&svt=1900&svps=2&hfc=1&sw=両国テラスカフェ',\n",
       " 'https://tabelog.com/rstLst/?vs=1&sa=&sk=神田錦町%2520如月&lid=hd_search1&vac_net=&svd=20171108&svt=1900&svps=2&hfc=1&sw=神田錦町%2520如月',\n",
       " 'https://tabelog.com/rstLst/?vs=1&sa=&sk=トヨタマヴィラ&lid=hd_search1&vac_net=&svd=20171108&svt=1900&svps=2&hfc=1&sw=トヨタマヴィラ',\n",
       " 'https://tabelog.com/rstLst/?vs=1&sa=&sk=アップマーケットピッツァ＆カフェ&lid=hd_search1&vac_net=&svd=20171108&svt=1900&svps=2&hfc=1&sw=アップマーケットピッツァ＆カフェ',\n",
       " 'https://tabelog.com/rstLst/?vs=1&sa=&sk=両国テラス&lid=hd_search1&vac_net=&svd=20171108&svt=1900&svps=2&hfc=1&sw=両国テラス']"
      ]
     },
     "execution_count": 43,
     "metadata": {},
     "output_type": "execute_result"
    }
   ],
   "source": [
    "us = list()\n",
    "for i in range(len(urls2)):\n",
    "    b = ul + urls2[i] + ul2 + urls2[i]\n",
    "    us.append(b)\n",
    "us"
   ]
  },
  {
   "cell_type": "code",
   "execution_count": 72,
   "metadata": {
    "collapsed": true
   },
   "outputs": [
    {
     "data": {
      "text/plain": [
       "['https://tabelog.com/tokyo/A1302/A130201/13026436/dtlrvwlst/',\n",
       " 'https://tabelog.com/tokyo/A1310/A131003/13182226/dtlrvwlst/',\n",
       " 'https://tabelog.com/tokyo/A1308/A130801/13193501/dtlrvwlst/',\n",
       " 'https://tabelog.com/tokyo/A1310/A131003/13182223/dtlrvwlst/',\n",
       " 'https://tabelog.com/tokyo/A1304/A130403/13032373/dtlrvwlst/',\n",
       " 'https://tabelog.com/tokyo/A1302/A130201/13020115/dtlrvwlst/',\n",
       " 'https://tabelog.com/tokyo/A1310/A131004/13058193/dtlrvwlst/',\n",
       " 'https://tabelog.com/tokyo/A1301/A130102/13100899/dtlrvwlst/',\n",
       " 'https://tabelog.com/tokyo/A1310/A131003/13166088/dtlrvwlst/',\n",
       " 'https://tabelog.com/tokyo/A1304/A130401/13181946/dtlrvwlst/',\n",
       " 'https://tabelog.com/tokyo/A1305/A130504/13185570/dtlrvwlst/',\n",
       " 'https://tabelog.com/tokyo/A1308/A130802/13169087/dtlrvwlst/',\n",
       " 'https://tabelog.com/tokyo/A1306/A130601/13180221/dtlrvwlst/',\n",
       " 'https://tabelog.com/tokyo/A1311/A131103/13122557/dtlrvwlst/',\n",
       " 'https://tabelog.com/tokyo/A1312/A131201/13167104/dtlrvwlst/',\n",
       " 'https://tabelog.com/tokyo/A1311/A131103/13129918/dtlrvwlst/',\n",
       " 'https://tabelog.com/tokyo/A1311/A131103/13129918/dtlrvwlst/',\n",
       " 'https://tabelog.com/tokyo/A1311/A131103/13188286/dtlrvwlst/',\n",
       " 'https://tabelog.com/tokyo/A1303/A130302/13136144/dtlrvwlst/',\n",
       " 'https://tabelog.com/tokyo/A1324/A132402/13177039/dtlrvwlst/',\n",
       " 'https://tabelog.com/tokyo/A1311/A131103/13183479/dtlrvwlst/',\n",
       " 'https://tabelog.com/tokyo/A1314/A131402/13183816/dtlrvwlst/',\n",
       " 'https://tabelog.com/tokyo/A1324/A132402/13177039/dtlrvwlst/',\n",
       " 'https://tabelog.com/tokyo/A1312/A131201/13179089/dtlrvwlst/',\n",
       " 'https://tabelog.com/tokyo/A1312/A131201/13179089/dtlrvwlst/',\n",
       " 'https://tabelog.com/tokyo/A1310/A131002/13185183/dtlrvwlst/',\n",
       " 'https://tabelog.com/tokyo/A1321/A132102/13207866/dtlrvwlst/',\n",
       " 'https://tabelog.com/tokyo/A1321/A132102/13207866/dtlrvwlst/',\n",
       " 'https://tabelog.com/tokyo/A1312/A131201/13179089/dtlrvwlst/']"
      ]
     },
     "execution_count": 72,
     "metadata": {},
     "output_type": "execute_result"
    }
   ],
   "source": [
    "i = 0\n",
    "bb = list()\n",
    "for i in range(len(us)):\n",
    "    session = requests.Session()\n",
    "    response = session.get(us[i])\n",
    "    root = lxml.html.fromstring(response.content)\n",
    "    root.make_links_absolute(response.url)  \n",
    "    for a in root.cssselect('a'):\n",
    "        aa= a.get(\"href\")\n",
    "        d = list()\n",
    "        if 'dtlrvwlst' in str(aa):\n",
    "            bb.append(aa)\n",
    "            d.append(aa)\n",
    "            if len(d) > 0:\n",
    "                break            \n",
    "bb"
   ]
  },
  {
   "cell_type": "code",
   "execution_count": 74,
   "metadata": {},
   "outputs": [
    {
     "data": {
      "text/plain": [
       "29"
      ]
     },
     "execution_count": 74,
     "metadata": {},
     "output_type": "execute_result"
    }
   ],
   "source": [
    "len(bb)"
   ]
  },
  {
   "cell_type": "markdown",
   "metadata": {},
   "source": [
    "これで、バルニバービの東日本のレストランについての、食べログ個別口コミページのリストを作ることができました。"
   ]
  },
  {
   "cell_type": "code",
   "execution_count": 81,
   "metadata": {},
   "outputs": [
    {
     "data": {
      "text/plain": [
       "['3.55', '3.53', '3.51']"
      ]
     },
     "execution_count": 81,
     "metadata": {},
     "output_type": "execute_result"
    }
   ],
   "source": [
    "rat = list()\n",
    "c = str(bb[0])\n",
    "cs = c.replace('dtlrvwlst', 'dtlratings')\n",
    "session = requests.Session()\n",
    "response = session.get(cs)\n",
    "root = lxml.html.fromstring(response.content)\n",
    "for x in root.cssselect('strong[class = \"score\"]'):\n",
    "    rat.append(x.text)\n",
    "rat"
   ]
  },
  {
   "cell_type": "markdown",
   "metadata": {},
   "source": [
    "試してみると、上記のコードで「全体・夜・昼の評価」をスクレイピングできました。全部の店に拡張します。"
   ]
  },
  {
   "cell_type": "code",
   "execution_count": 82,
   "metadata": {},
   "outputs": [],
   "source": [
    "i = 0\n",
    "rate = list()\n",
    "for i in range(len(bb)):\n",
    "    c = str(bb[i])\n",
    "    cs = c.replace('dtlrvwlst', 'dtlratings')\n",
    "    session = requests.Session()\n",
    "    response = session.get(cs)\n",
    "    root = lxml.html.fromstring(response.content)\n",
    "    for x in root.cssselect('strong[class = \"score\"]'):\n",
    "        rate.append(x.text)"
   ]
  },
  {
   "cell_type": "code",
   "execution_count": 83,
   "metadata": {
    "collapsed": true
   },
   "outputs": [
    {
     "data": {
      "text/plain": [
       "['3.55',\n",
       " '3.53',\n",
       " '3.51',\n",
       " '3.46',\n",
       " '3.36',\n",
       " '3.25',\n",
       " '3.50',\n",
       " '3.14',\n",
       " '3.50',\n",
       " '3.06',\n",
       " '3.06',\n",
       " '3.03',\n",
       " '3.28',\n",
       " '3.27',\n",
       " '3.08',\n",
       " '3.13',\n",
       " '3.09',\n",
       " '3.14',\n",
       " '3.55',\n",
       " '3.51',\n",
       " '3.55',\n",
       " '3.54',\n",
       " '3.48',\n",
       " '3.51',\n",
       " '3.28',\n",
       " '3.08',\n",
       " '3.48',\n",
       " '3.09',\n",
       " '3.05',\n",
       " '3.09',\n",
       " '3.06',\n",
       " '3.03',\n",
       " '3.06',\n",
       " '3.55',\n",
       " '3.17',\n",
       " '3.55',\n",
       " '3.14',\n",
       " '3.12',\n",
       " '3.08',\n",
       " '3.53',\n",
       " '3.53',\n",
       " '3.17',\n",
       " '3.28',\n",
       " '3.08',\n",
       " '3.47',\n",
       " '3.04',\n",
       " '3.04',\n",
       " '-',\n",
       " '3.04',\n",
       " '3.04',\n",
       " '-',\n",
       " '3.32',\n",
       " '3.28',\n",
       " '3.09',\n",
       " '3.61',\n",
       " '3.59',\n",
       " '3.61',\n",
       " '3.55',\n",
       " '3.54',\n",
       " '3.45',\n",
       " '3.05',\n",
       " '3.05',\n",
       " '-',\n",
       " '3.58',\n",
       " '3.55',\n",
       " '3.58',\n",
       " '3.55',\n",
       " '3.54',\n",
       " '3.45',\n",
       " '3.41',\n",
       " '3.23',\n",
       " '3.51',\n",
       " '3.41',\n",
       " '3.23',\n",
       " '3.51',\n",
       " '3.54',\n",
       " '3.54',\n",
       " '-',\n",
       " '3.21',\n",
       " '3.06',\n",
       " '3.21',\n",
       " '3.21',\n",
       " '3.06',\n",
       " '3.21',\n",
       " '3.41',\n",
       " '3.23',\n",
       " '3.51']"
      ]
     },
     "execution_count": 83,
     "metadata": {},
     "output_type": "execute_result"
    }
   ],
   "source": [
    "rate"
   ]
  },
  {
   "cell_type": "markdown",
   "metadata": {},
   "source": [
    "次のファイルでは、より細かなレーティングを取れるように頑張ります。それが終わったら、いよいよ顧客の口コミに絞った言語処理の始まりです。お仕事、とってもわーくわーくしますね！"
   ]
  }
 ],
 "metadata": {
  "kernelspec": {
   "display_name": "Python 3",
   "language": "python",
   "name": "python3"
  },
  "language_info": {
   "codemirror_mode": {
    "name": "ipython",
    "version": 3
   },
   "file_extension": ".py",
   "mimetype": "text/x-python",
   "name": "python",
   "nbconvert_exporter": "python",
   "pygments_lexer": "ipython3",
   "version": "3.6.1"
  }
 },
 "nbformat": 4,
 "nbformat_minor": 2
}
