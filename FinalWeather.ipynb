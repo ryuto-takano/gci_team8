{
 "cells": [
  {
   "cell_type": "code",
   "execution_count": 76,
   "metadata": {
    "collapsed": true,
    "scrolled": true
   },
   "outputs": [],
   "source": [
    "import requests\n",
    "import lxml.html\n",
    "from xml.etree.ElementTree import *\n",
    "import sys"
   ]
  },
  {
   "cell_type": "code",
   "execution_count": 77,
   "metadata": {
    "collapsed": true
   },
   "outputs": [],
   "source": [
    "def weather(x):\n",
    "    import pprint\n",
    "    import codecs\n",
    "    import json\n",
    "    txt = list()\n",
    "    session = requests.Session()\n",
    "    response = session.get(x)\n",
    "    root = lxml.html.fromstring(response.content)\n",
    "    import json\n",
    "    weather = json.loads(root.text)\n",
    "    return weather"
   ]
  },
  {
   "cell_type": "markdown",
   "metadata": {},
   "source": [
    "DarkskyからAPIを引っ張ってきます。"
   ]
  },
  {
   "cell_type": "code",
   "execution_count": 78,
   "metadata": {
    "collapsed": true
   },
   "outputs": [],
   "source": [
    "def url1():\n",
    "    import time\n",
    "    from datetime import datetime\n",
    "    titi = time.time()\n",
    "    til = (int(titi/3600))*3600\n",
    "    T1 = str(til-3600*5)\n",
    "    return T1"
   ]
  },
  {
   "cell_type": "code",
   "execution_count": 79,
   "metadata": {
    "collapsed": true
   },
   "outputs": [],
   "source": [
    "def url2():\n",
    "    import time\n",
    "    from datetime import datetime\n",
    "    titi = time.time()\n",
    "    til = (int(titi/3600))*3600\n",
    "    T2 = str(til-3600*7)\n",
    "    return T2"
   ]
  },
  {
   "cell_type": "code",
   "execution_count": 80,
   "metadata": {
    "collapsed": true
   },
   "outputs": [],
   "source": [
    "tokyo =\"https://api.darksky.net/forecast/d127d68fbe61cdeb3f662cc97832882b/35.6528,-139.8395,\"\n",
    "osaka=\"https://api.darksky.net/forecast/d127d68fbe61cdeb3f662cc97832882b/34.6938,-135.5022,\"\n",
    "url1 = url1()\n",
    "url2 = url2()\n",
    "w1 = weather(tokyo+url1)\n",
    "w2 = weather(tokyo+url2)\n",
    "wo1 = weather(osaka+url1)\n",
    "wo2 = weather(osaka+url2)"
   ]
  },
  {
   "cell_type": "markdown",
   "metadata": {},
   "source": [
    "1日分の天候と気温、降雨を取ってくる関数を組みます。"
   ]
  },
  {
   "cell_type": "code",
   "execution_count": 81,
   "metadata": {
    "collapsed": true
   },
   "outputs": [],
   "source": [
    "def spt(x):\n",
    "    ww2 = str(x)\n",
    "    w3=ww2.split(':')\n",
    "    w4 = str(w3).split(',')\n",
    "    return w4"
   ]
  },
  {
   "cell_type": "code",
   "execution_count": 82,
   "metadata": {
    "collapsed": true
   },
   "outputs": [],
   "source": [
    "def ap(x,y):\n",
    "    for i in range(len(x)):\n",
    "        x1 = x[i]\n",
    "        x2 = str(x1)[3:]\n",
    "        y.append(float(x2))\n",
    "    return y"
   ]
  },
  {
   "cell_type": "code",
   "execution_count": 83,
   "metadata": {
    "collapsed": true
   },
   "outputs": [],
   "source": [
    "time = list()\n",
    "icon = list()\n",
    "temp = list()\n",
    "PI = list()\n",
    "lists = [time, icon, temp, PI]"
   ]
  },
  {
   "cell_type": "code",
   "execution_count": 84,
   "metadata": {
    "collapsed": true
   },
   "outputs": [],
   "source": [
    "def wh(x):\n",
    "    import time\n",
    "    from datetime import datetime\n",
    "    import numpy as np\n",
    "    time = list()\n",
    "    icon = list()\n",
    "    temp = list()\n",
    "    PI = list()\n",
    "    lists = [time, icon, temp, PI]\n",
    "    ww = x['hourly']\n",
    "    wi = str(ww)\n",
    "    wim = wi.split('{')\n",
    "    from pandas import DataFrame\n",
    "    i= 0\n",
    "    q = 0\n",
    "    for i in range(len(wim)):\n",
    "        w4 = spt(wim[i])\n",
    "        for q in range(len(w4)):\n",
    "            w = w4[q]\n",
    "            if 'time' in w:\n",
    "                time.append(w4[q+1])\n",
    "            if 'icon' in w:\n",
    "                icon.append(w4[q+1])\n",
    "            if 'temp' in w:\n",
    "                temp.append(w4[q+1])\n",
    "            if 'precipIntensity' in w:\n",
    "                PI.append(w4[q+1])\n",
    "            else:\n",
    "                pass\n",
    "    t1 = list()\n",
    "    for i in range(len(time)):\n",
    "        t = time[i]\n",
    "        t2 = str(t)[3:]\n",
    "        t3 = datetime.fromtimestamp(int(t2))\n",
    "        t1.append(t3)\n",
    "    i1 = list()\n",
    "    i= 0\n",
    "    for i in range(len(icon)-1):\n",
    "        a = icon[i+1]\n",
    "        a2 = str(a)[4:-1]\n",
    "        i1.append(a2)\n",
    "    tm = list()\n",
    "    tm2 = ap(temp,tm)\n",
    "    pi = list()\n",
    "    pi2 = ap(PI,pi)\n",
    "    df = DataFrame({'時間':t1, '天候' : i1, '気温' : tm2, '降雨':pi2})\n",
    "    return df"
   ]
  },
  {
   "cell_type": "code",
   "execution_count": 85,
   "metadata": {
    "collapsed": true
   },
   "outputs": [],
   "source": [
    "ww1 = wh(w1)[7:]"
   ]
  },
  {
   "cell_type": "code",
   "execution_count": 86,
   "metadata": {
    "collapsed": true
   },
   "outputs": [],
   "source": [
    "ww2 = wh(w2)[:7]"
   ]
  },
  {
   "cell_type": "code",
   "execution_count": 87,
   "metadata": {
    "collapsed": true
   },
   "outputs": [],
   "source": [
    "ww3 = wh(wo1)[7:]"
   ]
  },
  {
   "cell_type": "code",
   "execution_count": 88,
   "metadata": {
    "collapsed": true
   },
   "outputs": [],
   "source": [
    "ww4 = wh(wo2)[:7]"
   ]
  },
  {
   "cell_type": "code",
   "execution_count": 89,
   "metadata": {
    "collapsed": true
   },
   "outputs": [],
   "source": [
    "import pandas as pd\n",
    "wh3 = pd.concat([ww1,ww2])"
   ]
  },
  {
   "cell_type": "code",
   "execution_count": 90,
   "metadata": {
    "collapsed": true
   },
   "outputs": [],
   "source": [
    "import pandas as pd\n",
    "wh5 = pd.concat([ww3,ww4])"
   ]
  },
  {
   "cell_type": "code",
   "execution_count": 91,
   "metadata": {
    "collapsed": true
   },
   "outputs": [],
   "source": [
    "def whc(x,y):\n",
    "    import pandas as pd\n",
    "    from pandas import DataFrame\n",
    "    a1 = wh(x)[7:]\n",
    "    a2 = wh(y)[:7]\n",
    "    a3 = pd.concat([a1,a2])\n",
    "    return a3"
   ]
  },
  {
   "cell_type": "code",
   "execution_count": 92,
   "metadata": {
    "collapsed": true
   },
   "outputs": [],
   "source": [
    "whc = whc(w1,w2)"
   ]
  },
  {
   "cell_type": "markdown",
   "metadata": {},
   "source": [
    "毎時の指定データを取ってくる関数が組めたので、これをPyMySQLを使ってMySQLに入れたいと思います。"
   ]
  },
  {
   "cell_type": "code",
   "execution_count": 93,
   "metadata": {
    "collapsed": true
   },
   "outputs": [],
   "source": [
    "import sqlite3\n",
    "dbname = 'database.db'\n",
    "conn = sqlite3.connect(dbname)\n",
    "c = conn.cursor()"
   ]
  },
  {
   "cell_type": "markdown",
   "metadata": {
    "scrolled": true
   },
   "source": [
    "create_table = '''create table wat (time int, icon varchar(64),\n",
    "                  temperature int, precipIntensity int)'''\n",
    "c.execute(create_table)"
   ]
  },
  {
   "cell_type": "markdown",
   "metadata": {},
   "source": [
    "create_table = '''create table wato (time int, icon varchar(64),\n",
    "                  temperature int, precipIntensity int)'''\n",
    "c.execute(create_table)"
   ]
  },
  {
   "cell_type": "code",
   "execution_count": 94,
   "metadata": {
    "collapsed": true
   },
   "outputs": [],
   "source": [
    "ti = list(whc['時間'])\n",
    "cl =list(whc['天候'])\n",
    "te =list(whc['気温'])\n",
    "ra = list(whc['降雨'])"
   ]
  },
  {
   "cell_type": "code",
   "execution_count": 95,
   "metadata": {
    "collapsed": true
   },
   "outputs": [],
   "source": [
    "i = 0\n",
    "g1 = list()\n",
    "for i in range(len(ti)):\n",
    "    g = list()\n",
    "    g = list([ti[i],cl[i],te[i],ra[i]])\n",
    "    g1.append(g)"
   ]
  },
  {
   "cell_type": "code",
   "execution_count": 96,
   "metadata": {
    "collapsed": true
   },
   "outputs": [],
   "source": [
    "tio = list(wh5['時間'])\n",
    "clo =list(wh5['天候'])\n",
    "teo =list(wh5['気温'])\n",
    "rao = list(wh5['降雨'])"
   ]
  },
  {
   "cell_type": "code",
   "execution_count": 97,
   "metadata": {
    "collapsed": true
   },
   "outputs": [],
   "source": [
    "i = 0\n",
    "g2 = list()\n",
    "for i in range(len(tio)):\n",
    "    g = list()\n",
    "    g = list([tio[i],clo[i],teo[i],rao[i]])\n",
    "    g2.append(g)"
   ]
  },
  {
   "cell_type": "code",
   "execution_count": 98,
   "metadata": {
    "collapsed": true
   },
   "outputs": [],
   "source": [
    "insert_sql = 'insert into wat (time, icon, temperature, precipIntensity) values (?,?,?,?)'\n",
    "i= 0\n",
    "for i in range(len(g1)):\n",
    "    g = g1[i]\n",
    "    tt =str(ti[i])\n",
    "    users = [tt, g[1],g[2],g[3]]\n",
    "    c.execute(insert_sql, users)\n",
    "    conn.commit()"
   ]
  },
  {
   "cell_type": "code",
   "execution_count": 99,
   "metadata": {
    "collapsed": true
   },
   "outputs": [],
   "source": [
    "insert_sql = 'insert into wato (time, icon, temperature, precipIntensity) values (?,?,?,?)'\n",
    "i= 0\n",
    "for i in range(len(g2)):\n",
    "    g = g2[i]\n",
    "    tt =str(tio[i])\n",
    "    users = [tt, g[1],g[2],g[3]]\n",
    "    c.execute(insert_sql, users)\n",
    "    conn.commit()"
   ]
  },
  {
   "cell_type": "code",
   "execution_count": 100,
   "metadata": {
    "collapsed": true
   },
   "outputs": [
    {
     "name": "stdout",
     "output_type": "stream",
     "text": [
      "(0, '0', 0, 0)\n",
      "(0, '0', 0, 0)\n",
      "(0, 'a', 0, 0)\n",
      "(0, 'a', 0, 0)\n",
      "('2017-11-17 00:00:00', 'partly-cloudy-night', 57.34, 0.0003)\n",
      "('2017-11-16 01:00:00', 'partly-cloudy-night', 60.32, 0.0007)\n",
      "('2017-11-16 02:00:00', 'partly-cloudy-day', 60.75, 0.0008)\n",
      "('2017-11-16 03:00:00', 'partly-cloudy-day', 61.6, 0.0008)\n",
      "('2017-11-16 04:00:00', 'partly-cloudy-day', 61.87, 0.0008)\n",
      "('2017-11-16 05:00:00', 'partly-cloudy-day', 61.93, 0.0008)\n",
      "('2017-11-16 06:00:00', 'partly-cloudy-day', 62.08, 0.0007)\n",
      "('2017-11-16 07:00:00', 'partly-cloudy-day', 61.99, 0.0005)\n",
      "('2017-11-16 08:00:00', 'partly-cloudy-day', 61.61, 0.0003)\n",
      "('2017-11-16 09:00:00', 'clear-day', 61.25, 0.0003)\n",
      "('2017-11-16 10:00:00', 'clear-day', 60.45, 0.0003)\n",
      "('2017-11-16 11:00:00', 'partly-cloudy-day', 59.67, 0.0005)\n",
      "('2017-11-16 12:00:00', 'partly-cloudy-night', 59.23, 0.0008)\n",
      "('2017-11-16 13:00:00', 'partly-cloudy-night', 58.92, 0.0008)\n",
      "('2017-11-16 14:00:00', 'partly-cloudy-night', 58.67, 0.0008)\n",
      "('2017-11-16 15:00:00', 'partly-cloudy-night', 58.59, 0.0008)\n",
      "('2017-11-16 16:00:00', 'partly-cloudy-night', 58.14, 0.0008)\n",
      "('2017-11-16 17:00:00', 'partly-cloudy-night', 57.61, 0.0007)\n",
      "('2017-11-16 18:00:00', 'partly-cloudy-night', 57.22, 0.0006)\n",
      "('2017-11-16 19:00:00', 'partly-cloudy-night', 56.78, 0.0006)\n",
      "('2017-11-16 20:00:00', 'partly-cloudy-night', 56.49, 0.0005)\n",
      "('2017-11-16 21:00:00', 'partly-cloudy-night', 56.62, 0.0005)\n",
      "('2017-11-16 22:00:00', 'partly-cloudy-night', 56.66, 0.0004)\n",
      "('2017-11-16 23:00:00', 'partly-cloudy-night', 56.83, 0.0003)\n",
      "('2017-11-17 00:00:00', 'partly-cloudy-night', 57.34, 0.0003)\n",
      "('2017-11-17 01:00:00', 'partly-cloudy-night', 57.82, 0.0003)\n",
      "('2017-11-17 02:00:00', 'partly-cloudy-day', 58.43, 0.0003)\n",
      "('2017-11-17 03:00:00', 'partly-cloudy-day', 59.56, 0.0005)\n",
      "('2017-11-17 04:00:00', 'partly-cloudy-day', 59.98, 0.0005)\n",
      "('2017-11-17 05:00:00', 'partly-cloudy-day', 60.35, 0.0004)\n",
      "('2017-11-17 06:00:00', 'partly-cloudy-day', 60.7, 0.0004)\n",
      "('2017-11-17 07:00:00', 'partly-cloudy-day', 60.86, 0.0005)\n",
      "('2017-11-17 08:00:00', 'partly-cloudy-day', 60.82, 0.0005)\n",
      "('2017-11-17 09:00:00', 'partly-cloudy-day', 60.71, 0.0005)\n",
      "('2017-11-17 10:00:00', 'partly-cloudy-day', 60.13, 0.0005)\n",
      "('2017-11-17 11:00:00', 'partly-cloudy-day', 59.44, 0.0005)\n",
      "('2017-11-17 12:00:00', 'partly-cloudy-night', 58.94, 0.0005)\n",
      "('2017-11-17 13:00:00', 'partly-cloudy-night', 58.72, 0.0005)\n",
      "('2017-11-17 14:00:00', 'partly-cloudy-night', 58.64, 0.0005)\n",
      "('2017-11-17 15:00:00', 'partly-cloudy-night', 58.52, 0.0005)\n",
      "('2017-11-17 16:00:00', 'partly-cloudy-night', 58.31, 0.0002)\n",
      "('2017-11-17 17:00:00', 'partly-cloudy-night', 58.01, 0.0001)\n",
      "('2017-11-16 18:00:00', 'partly-cloudy-night', 57.22, 0.0006)\n",
      "('2017-11-16 19:00:00', 'partly-cloudy-night', 56.78, 0.0006)\n",
      "('2017-11-16 20:00:00', 'partly-cloudy-night', 56.49, 0.0005)\n",
      "('2017-11-16 21:00:00', 'partly-cloudy-night', 56.62, 0.0005)\n",
      "('2017-11-16 22:00:00', 'partly-cloudy-night', 56.66, 0.0004)\n",
      "('2017-11-16 23:00:00', 'partly-cloudy-night', 56.83, 0.0003)\n",
      "('2017-11-17 00:00:00', 'partly-cloudy-night', 57.34, 0.0003)\n"
     ]
    }
   ],
   "source": [
    "select_sql = 'select * from wat'\n",
    "for row in c.execute(select_sql):\n",
    "    print(row)"
   ]
  },
  {
   "cell_type": "code",
   "execution_count": 101,
   "metadata": {
    "collapsed": true
   },
   "outputs": [
    {
     "name": "stdout",
     "output_type": "stream",
     "text": [
      "('2017-11-16 01:00:00', 'partly-cloudy-day', 61.39, 0)\n",
      "('2017-11-16 02:00:00', 'partly-cloudy-day', 62.09, 0)\n",
      "('2017-11-16 03:00:00', 'partly-cloudy-day', 62.85, 0.0001)\n",
      "('2017-11-16 04:00:00', 'partly-cloudy-day', 63.39, 0.0001)\n",
      "('2017-11-16 05:00:00', 'partly-cloudy-day', 63.78, 0.0001)\n",
      "('2017-11-16 06:00:00', 'partly-cloudy-day', 64.11, 0.0001)\n",
      "('2017-11-16 07:00:00', 'partly-cloudy-day', 64.23, 0.0001)\n",
      "('2017-11-16 08:00:00', 'partly-cloudy-day', 64.05, 0)\n",
      "('2017-11-16 09:00:00', 'partly-cloudy-day', 63.98, 0)\n",
      "('2017-11-16 10:00:00', 'partly-cloudy-day', 63.33, 0)\n",
      "('2017-11-16 11:00:00', 'partly-cloudy-night', 62.64, 0)\n",
      "('2017-11-16 12:00:00', 'partly-cloudy-night', 62.12, 0.0001)\n",
      "('2017-11-16 13:00:00', 'partly-cloudy-night', 61.83, 0)\n",
      "('2017-11-16 14:00:00', 'partly-cloudy-night', 61.63, 0)\n",
      "('2017-11-16 15:00:00', 'partly-cloudy-night', 61.42, 0.0001)\n",
      "('2017-11-16 16:00:00', 'partly-cloudy-night', 60.89, 0.0002)\n",
      "('2017-11-16 17:00:00', 'partly-cloudy-night', 60.13, 0.0004)\n",
      "('2017-11-16 18:00:00', 'partly-cloudy-night', 59.57, 0.0006)\n",
      "('2017-11-16 19:00:00', 'partly-cloudy-night', 59.09, 0.0004)\n",
      "('2017-11-16 20:00:00', 'partly-cloudy-night', 58.72, 0.0002)\n",
      "('2017-11-16 21:00:00', 'partly-cloudy-night', 58.68, 0.0002)\n",
      "('2017-11-16 22:00:00', 'partly-cloudy-night', 58.62, 0.0001)\n",
      "('2017-11-16 23:00:00', 'partly-cloudy-night', 58.84, 0.0001)\n",
      "('2017-11-17 00:00:00', 'partly-cloudy-night', 59.21, 0.0001)\n",
      "('2017-11-17 01:00:00', 'partly-cloudy-day', 59.61, 0.0001)\n",
      "('2017-11-17 02:00:00', 'partly-cloudy-day', 60.03, 0.0002)\n",
      "('2017-11-17 03:00:00', 'partly-cloudy-day', 60.74, 0.0004)\n",
      "('2017-11-17 04:00:00', 'partly-cloudy-day', 61.15, 0.0003)\n",
      "('2017-11-17 05:00:00', 'partly-cloudy-day', 61.39, 0.0002)\n",
      "('2017-11-17 06:00:00', 'partly-cloudy-day', 61.68, 0.0002)\n",
      "('2017-11-17 07:00:00', 'partly-cloudy-day', 61.7, 0.0003)\n",
      "('2017-11-17 08:00:00', 'partly-cloudy-day', 61.51, 0.0005)\n",
      "('2017-11-17 09:00:00', 'partly-cloudy-day', 61.12, 0.0006)\n",
      "('2017-11-17 10:00:00', 'partly-cloudy-day', 60.49, 0.0006)\n",
      "('2017-11-17 11:00:00', 'partly-cloudy-night', 59.91, 0.0005)\n",
      "('2017-11-17 12:00:00', 'partly-cloudy-night', 59.62, 0.0005)\n",
      "('2017-11-17 13:00:00', 'partly-cloudy-night', 59.38, 0.0005)\n",
      "('2017-11-17 14:00:00', 'partly-cloudy-night', 59.24, 0.0005)\n",
      "('2017-11-17 15:00:00', 'partly-cloudy-night', 59.08, 0.0004)\n",
      "('2017-11-17 16:00:00', 'partly-cloudy-night', 58.7, 0.0002)\n",
      "('2017-11-17 17:00:00', 'partly-cloudy-night', 58.33, 0)\n",
      "('2017-11-16 18:00:00', 'partly-cloudy-night', 59.57, 0.0006)\n",
      "('2017-11-16 19:00:00', 'partly-cloudy-night', 59.09, 0.0004)\n",
      "('2017-11-16 20:00:00', 'partly-cloudy-night', 58.72, 0.0002)\n",
      "('2017-11-16 21:00:00', 'partly-cloudy-night', 58.68, 0.0002)\n",
      "('2017-11-16 22:00:00', 'partly-cloudy-night', 58.62, 0.0001)\n",
      "('2017-11-16 23:00:00', 'partly-cloudy-night', 58.84, 0.0001)\n",
      "('2017-11-17 00:00:00', 'partly-cloudy-night', 59.21, 0.0001)\n"
     ]
    }
   ],
   "source": [
    "select_sql = 'select * from wato'\n",
    "for row in c.execute(select_sql):\n",
    "    print(row)"
   ]
  },
  {
   "cell_type": "code",
   "execution_count": 102,
   "metadata": {
    "collapsed": true
   },
   "outputs": [],
   "source": [
    "conn.close()"
   ]
  },
  {
   "cell_type": "markdown",
   "metadata": {},
   "source": [
    "これで、東京と大阪のデータを取ってきて、DBに格納することができました！"
   ]
  }
 ],
 "metadata": {
  "kernelspec": {
   "display_name": "Python 3",
   "language": "python",
   "name": "python3"
  },
  "language_info": {
   "codemirror_mode": {
    "name": "ipython",
    "version": 3
   },
   "file_extension": ".py",
   "mimetype": "text/x-python",
   "name": "python",
   "nbconvert_exporter": "python",
   "pygments_lexer": "ipython3",
   "version": "3.6.1"
  }
 },
 "nbformat": 4,
 "nbformat_minor": 2
}
